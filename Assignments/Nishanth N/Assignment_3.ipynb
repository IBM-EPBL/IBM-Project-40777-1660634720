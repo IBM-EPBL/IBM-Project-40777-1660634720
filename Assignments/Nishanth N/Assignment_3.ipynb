{
  "nbformat": 4,
  "nbformat_minor": 0,
  "metadata": {
    "colab": {
      "provenance": []
    },
    "kernelspec": {
      "name": "python3",
      "display_name": "Python 3"
    },
    "language_info": {
      "name": "python"
    },
    "accelerator": "GPU"
  },
  "cells": [
    {
      "cell_type": "markdown",
      "source": [
        "#1. Download and Load Dataset"
      ],
      "metadata": {
        "id": "mfrTuIyrifXM"
      }
    },
    {
      "cell_type": "code",
      "source": [
        "from google.colab import drive\n",
        "drive.mount('/content/drive')"
      ],
      "metadata": {
        "colab": {
          "base_uri": "https://localhost:8080/"
        },
        "id": "32tXTsgQjo1P",
        "outputId": "04fb3f34-7a61-4c2e-c4df-daed7c3b823d"
      },
      "execution_count": 2,
      "outputs": [
        {
          "output_type": "stream",
          "name": "stdout",
          "text": [
            "Mounted at /content/drive\n"
          ]
        }
      ]
    },
    {
      "cell_type": "markdown",
      "source": [
        "#2. Image Augmentation"
      ],
      "metadata": {
        "id": "lX-2q8eghwdi"
      }
    },
    {
      "cell_type": "code",
      "source": [
        "from tensorflow.keras.preprocessing.image import ImageDataGenerator"
      ],
      "metadata": {
        "id": "AkpJMHYWJYN0"
      },
      "execution_count": 5,
      "outputs": []
    },
    {
      "cell_type": "code",
      "source": [
        "train_datagen=ImageDataGenerator(rescale=1./255,\n",
        "                                 zoom_range=0.2,\n",
        "                                 horizontal_flip=True)"
      ],
      "metadata": {
        "id": "VdbioNJHJ0Iw"
      },
      "execution_count": 6,
      "outputs": []
    },
    {
      "cell_type": "code",
      "source": [
        "test_datagen=ImageDataGenerator(rescale=1./255)"
      ],
      "metadata": {
        "id": "sIY-F_yjLMaB"
      },
      "execution_count": 7,
      "outputs": []
    },
    {
      "cell_type": "code",
      "source": [
        "xtrain=train_datagen.flow_from_directory('/content/drive/MyDrive/nalayathiran/flowers1/train',\n",
        "                                         target_size=(64,64),\n",
        "                                         class_mode='categorical', batch_size=100)"
      ],
      "metadata": {
        "id": "wBeZZszdL1q8",
        "colab": {
          "base_uri": "https://localhost:8080/"
        },
        "outputId": "6a694fd6-0084-4f51-ab5f-11060da9d71d"
      },
      "execution_count": 8,
      "outputs": [
        {
          "output_type": "stream",
          "name": "stdout",
          "text": [
            "Found 3460 images belonging to 5 classes.\n"
          ]
        }
      ]
    },
    {
      "cell_type": "code",
      "source": [
        "xtest=train_datagen.flow_from_directory('/content/drive/MyDrive/nalayathiran/flowers1/test',\n",
        "                                         target_size=(64,64),\n",
        "                                         class_mode='categorical',\n",
        "                                        batch_size=100)"
      ],
      "metadata": {
        "id": "YBGNpyx8MSR5",
        "colab": {
          "base_uri": "https://localhost:8080/"
        },
        "outputId": "686ed522-60e0-45f5-8d2b-960acde3c4a1"
      },
      "execution_count": 9,
      "outputs": [
        {
          "output_type": "stream",
          "name": "stdout",
          "text": [
            "Found 436 images belonging to 5 classes.\n"
          ]
        }
      ]
    },
    {
      "cell_type": "markdown",
      "source": [
        "#3. Create Model"
      ],
      "metadata": {
        "id": "eLXsO0fyizir"
      }
    },
    {
      "cell_type": "code",
      "source": [
        "from tensorflow.keras.models import Sequential\n",
        "from tensorflow.keras.layers import Convolution2D,MaxPooling2D,Flatten,Dense\n",
        "model = Sequential()"
      ],
      "metadata": {
        "id": "EhmoHi4Qc3wy"
      },
      "execution_count": 10,
      "outputs": []
    },
    {
      "cell_type": "markdown",
      "source": [
        "#4. Add Layers(Convolution,MaxPooling,Flatten,Dense-(Hidden Layers),Output)\n"
      ],
      "metadata": {
        "id": "rr2WUJgUjJiQ"
      }
    },
    {
      "cell_type": "code",
      "source": [
        "model.add(Convolution2D(32,(3,3),activation='relu',input_shape=(64,64,3)))\n",
        "model.add(MaxPooling2D(pool_size=(2,2)))\n",
        "model.add(Flatten())\n",
        "model.add(Dense(300,activation='relu'))\n",
        "model.add(Dense(150,activation='relu'))\n",
        "model.add(Dense(5,activation='softmax'))"
      ],
      "metadata": {
        "id": "atCsC-g0dNb4"
      },
      "execution_count": 11,
      "outputs": []
    },
    {
      "cell_type": "markdown",
      "source": [
        "#5. Compile The Model"
      ],
      "metadata": {
        "id": "AGGAKttsjStT"
      }
    },
    {
      "cell_type": "code",
      "source": [
        "model.compile(optimizer='adam',loss='categorical_crossentropy',metrics=['accuracy'])"
      ],
      "metadata": {
        "id": "L59lcavQeiuR"
      },
      "execution_count": 12,
      "outputs": []
    },
    {
      "cell_type": "markdown",
      "source": [
        "# 6. Fit The Model"
      ],
      "metadata": {
        "id": "-R8JESFzjW2R"
      }
    },
    {
      "cell_type": "code",
      "source": [
        "model.fit_generator(xtrain,steps_per_epoch=len(xtrain),epochs=30,validation_data=xtest,validation_steps=len(xtest))"
      ],
      "metadata": {
        "colab": {
          "base_uri": "https://localhost:8080/"
        },
        "id": "Zg3pKH2Ge3AQ",
        "outputId": "0dd463b3-ec67-4556-a3e4-663685e62c20"
      },
      "execution_count": 13,
      "outputs": [
        {
          "output_type": "stream",
          "name": "stderr",
          "text": [
            "/usr/local/lib/python3.7/dist-packages/ipykernel_launcher.py:1: UserWarning: `Model.fit_generator` is deprecated and will be removed in a future version. Please use `Model.fit`, which supports generators.\n",
            "  \"\"\"Entry point for launching an IPython kernel.\n"
          ]
        },
        {
          "output_type": "stream",
          "name": "stdout",
          "text": [
            "Epoch 1/30\n",
            "35/35 [==============================] - 30s 482ms/step - loss: 1.8455 - accuracy: 0.3390 - val_loss: 1.2349 - val_accuracy: 0.4748\n",
            "Epoch 2/30\n",
            "35/35 [==============================] - 17s 477ms/step - loss: 1.1474 - accuracy: 0.5217 - val_loss: 1.1045 - val_accuracy: 0.5734\n",
            "Epoch 3/30\n",
            "35/35 [==============================] - 18s 514ms/step - loss: 1.0593 - accuracy: 0.5757 - val_loss: 1.1012 - val_accuracy: 0.5344\n",
            "Epoch 4/30\n",
            "35/35 [==============================] - 17s 484ms/step - loss: 1.0108 - accuracy: 0.6052 - val_loss: 1.0213 - val_accuracy: 0.5940\n",
            "Epoch 5/30\n",
            "35/35 [==============================] - 17s 482ms/step - loss: 0.9668 - accuracy: 0.6162 - val_loss: 1.0148 - val_accuracy: 0.6032\n",
            "Epoch 6/30\n",
            "35/35 [==============================] - 17s 486ms/step - loss: 0.9007 - accuracy: 0.6488 - val_loss: 1.0003 - val_accuracy: 0.5963\n",
            "Epoch 7/30\n",
            "35/35 [==============================] - 17s 481ms/step - loss: 0.8738 - accuracy: 0.6653 - val_loss: 0.9547 - val_accuracy: 0.6261\n",
            "Epoch 8/30\n",
            "35/35 [==============================] - 17s 479ms/step - loss: 0.8272 - accuracy: 0.6841 - val_loss: 0.9819 - val_accuracy: 0.6055\n",
            "Epoch 9/30\n",
            "35/35 [==============================] - 17s 476ms/step - loss: 0.7821 - accuracy: 0.6893 - val_loss: 1.0284 - val_accuracy: 0.6101\n",
            "Epoch 10/30\n",
            "35/35 [==============================] - 17s 482ms/step - loss: 0.7659 - accuracy: 0.7078 - val_loss: 0.9955 - val_accuracy: 0.6124\n",
            "Epoch 11/30\n",
            "35/35 [==============================] - 17s 499ms/step - loss: 0.7194 - accuracy: 0.7220 - val_loss: 0.9410 - val_accuracy: 0.6376\n",
            "Epoch 12/30\n",
            "35/35 [==============================] - 17s 480ms/step - loss: 0.6976 - accuracy: 0.7408 - val_loss: 0.8888 - val_accuracy: 0.6445\n",
            "Epoch 13/30\n",
            "35/35 [==============================] - 17s 479ms/step - loss: 0.6575 - accuracy: 0.7540 - val_loss: 0.9431 - val_accuracy: 0.6399\n",
            "Epoch 14/30\n",
            "35/35 [==============================] - 18s 507ms/step - loss: 0.6341 - accuracy: 0.7656 - val_loss: 0.9622 - val_accuracy: 0.6537\n",
            "Epoch 15/30\n",
            "35/35 [==============================] - 17s 477ms/step - loss: 0.6137 - accuracy: 0.7676 - val_loss: 0.9780 - val_accuracy: 0.6651\n",
            "Epoch 16/30\n",
            "35/35 [==============================] - 17s 476ms/step - loss: 0.5781 - accuracy: 0.7870 - val_loss: 0.9753 - val_accuracy: 0.6399\n",
            "Epoch 17/30\n",
            "35/35 [==============================] - 16s 469ms/step - loss: 0.5743 - accuracy: 0.7928 - val_loss: 0.9565 - val_accuracy: 0.6720\n",
            "Epoch 18/30\n",
            "35/35 [==============================] - 17s 473ms/step - loss: 0.5671 - accuracy: 0.7913 - val_loss: 1.0246 - val_accuracy: 0.6353\n",
            "Epoch 19/30\n",
            "35/35 [==============================] - 16s 467ms/step - loss: 0.5169 - accuracy: 0.8110 - val_loss: 0.9758 - val_accuracy: 0.6537\n",
            "Epoch 20/30\n",
            "35/35 [==============================] - 16s 467ms/step - loss: 0.4701 - accuracy: 0.8280 - val_loss: 0.9695 - val_accuracy: 0.6628\n",
            "Epoch 21/30\n",
            "35/35 [==============================] - 16s 465ms/step - loss: 0.4759 - accuracy: 0.8220 - val_loss: 1.1358 - val_accuracy: 0.6445\n",
            "Epoch 22/30\n",
            "35/35 [==============================] - 16s 469ms/step - loss: 0.4377 - accuracy: 0.8416 - val_loss: 0.9989 - val_accuracy: 0.6491\n",
            "Epoch 23/30\n",
            "35/35 [==============================] - 16s 469ms/step - loss: 0.4353 - accuracy: 0.8382 - val_loss: 1.1090 - val_accuracy: 0.6376\n",
            "Epoch 24/30\n",
            "35/35 [==============================] - 16s 469ms/step - loss: 0.4165 - accuracy: 0.8483 - val_loss: 1.0998 - val_accuracy: 0.6399\n",
            "Epoch 25/30\n",
            "35/35 [==============================] - 17s 489ms/step - loss: 0.4007 - accuracy: 0.8552 - val_loss: 1.0475 - val_accuracy: 0.6560\n",
            "Epoch 26/30\n",
            "35/35 [==============================] - 16s 469ms/step - loss: 0.3642 - accuracy: 0.8676 - val_loss: 1.0104 - val_accuracy: 0.6743\n",
            "Epoch 27/30\n",
            "35/35 [==============================] - 16s 468ms/step - loss: 0.3656 - accuracy: 0.8763 - val_loss: 1.1110 - val_accuracy: 0.6560\n",
            "Epoch 28/30\n",
            "35/35 [==============================] - 16s 469ms/step - loss: 0.3495 - accuracy: 0.8751 - val_loss: 1.1535 - val_accuracy: 0.6216\n",
            "Epoch 29/30\n",
            "35/35 [==============================] - 17s 495ms/step - loss: 0.3423 - accuracy: 0.8824 - val_loss: 1.0782 - val_accuracy: 0.6537\n",
            "Epoch 30/30\n",
            "35/35 [==============================] - 16s 471ms/step - loss: 0.3360 - accuracy: 0.8821 - val_loss: 1.1288 - val_accuracy: 0.6743\n"
          ]
        },
        {
          "output_type": "execute_result",
          "data": {
            "text/plain": [
              "<keras.callbacks.History at 0x7f84ad5f3910>"
            ]
          },
          "metadata": {},
          "execution_count": 13
        }
      ]
    },
    {
      "cell_type": "markdown",
      "source": [
        "# 7. Save The Model"
      ],
      "metadata": {
        "id": "iN5hb6MKjb2Y"
      }
    },
    {
      "cell_type": "code",
      "source": [
        "model.save('/content/drive/MyDrive/nalayathiran/FlowersModel.h5')"
      ],
      "metadata": {
        "id": "bKoDDsIogREq"
      },
      "execution_count": 19,
      "outputs": []
    },
    {
      "cell_type": "markdown",
      "source": [
        "# 8. Test The Model"
      ],
      "metadata": {
        "id": "JLgQNDHxjhmb"
      }
    },
    {
      "cell_type": "code",
      "source": [
        "from tensorflow.keras.preprocessing import image"
      ],
      "metadata": {
        "id": "5WaSxEzSgdCM"
      },
      "execution_count": 20,
      "outputs": []
    },
    {
      "cell_type": "code",
      "source": [
        "img=image.load_img('/content/drive/MyDrive/nalayathiran/flowers1/test/sunflower/12282924083_fb80aa17d4_n.jpg',target_size=(64,64))\n",
        "img "
      ],
      "metadata": {
        "colab": {
          "base_uri": "https://localhost:8080/",
          "height": 81
        },
        "id": "GXJGXIY3gqbF",
        "outputId": "c1ca0bc9-b650-4c33-b0cd-7bf44011ea8c"
      },
      "execution_count": 21,
      "outputs": [
        {
          "output_type": "execute_result",
          "data": {
            "text/plain": [
              "<PIL.Image.Image image mode=RGB size=64x64 at 0x7F84AD5F36D0>"
            ],
            "image/png": "[encoded data removed]"
          },
          "metadata": {},
          "execution_count": 21
        }
      ]
    },
    {
      "cell_type": "code",
      "source": [
        "import numpy as np\n",
        "x=image.img_to_array(img)\n",
        "x=np.expand_dims(x,axis=0)"
      ],
      "metadata": {
        "id": "kfIwd48Lg5A0"
      },
      "execution_count": 17,
      "outputs": []
    },
    {
      "cell_type": "code",
      "source": [
        "op=['Daisy','Dandelion','Rose','Sunflower','Tulip']\n",
        "pred=np.argmax(model.predict(x)) \n",
        "\n",
        "op[pred]"
      ],
      "metadata": {
        "colab": {
          "base_uri": "https://localhost:8080/",
          "height": 36
        },
        "id": "sdwxPuOWhTMa",
        "outputId": "12b48aec-6030-4352-e454-391f44ee2a50"
      },
      "execution_count": 18,
      "outputs": [
        {
          "output_type": "execute_result",
          "data": {
            "text/plain": [
              "'Sunflower'"
            ],
            "application/vnd.google.colaboratory.intrinsic+json": {
              "type": "string"
            }
          },
          "metadata": {},
          "execution_count": 18
        }
      ]
    }
  ]
}